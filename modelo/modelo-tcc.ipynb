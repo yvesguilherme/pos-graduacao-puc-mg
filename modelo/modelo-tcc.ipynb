{
 "cells": [
  {
   "cell_type": "markdown",
   "metadata": {},
   "source": [
    "### Importando as bibliotecas"
   ]
  },
  {
   "cell_type": "code",
   "execution_count": 1,
   "metadata": {},
   "outputs": [],
   "source": [
    "import pandas as pd\n",
    "import numpy as np\n",
    "import matplotlib.pyplot as plt\n",
    "plt.style.use('fivethirtyeight')\n",
    "\n",
    "# !pip install mplfinance"
   ]
  },
  {
   "cell_type": "markdown",
   "metadata": {},
   "source": [
    "### Importando o dataset"
   ]
  },
  {
   "cell_type": "code",
   "execution_count": 2,
   "metadata": {},
   "outputs": [],
   "source": [
    "colunas = ['date', 'time', 'open', 'high', 'low', 'close', 'volume']\n",
    "df = pd.read_csv('../dataset/dataset-exemplo-202206.csv')\n",
    "df.columns = colunas"
   ]
  },
  {
   "cell_type": "code",
   "execution_count": 3,
   "metadata": {},
   "outputs": [
    {
     "data": {
      "text/html": [
       "<div>\n",
       "<style scoped>\n",
       "    .dataframe tbody tr th:only-of-type {\n",
       "        vertical-align: middle;\n",
       "    }\n",
       "\n",
       "    .dataframe tbody tr th {\n",
       "        vertical-align: top;\n",
       "    }\n",
       "\n",
       "    .dataframe thead th {\n",
       "        text-align: right;\n",
       "    }\n",
       "</style>\n",
       "<table border=\"1\" class=\"dataframe\">\n",
       "  <thead>\n",
       "    <tr style=\"text-align: right;\">\n",
       "      <th></th>\n",
       "      <th>date</th>\n",
       "      <th>time</th>\n",
       "      <th>open</th>\n",
       "      <th>high</th>\n",
       "      <th>low</th>\n",
       "      <th>close</th>\n",
       "      <th>volume</th>\n",
       "    </tr>\n",
       "  </thead>\n",
       "  <tbody>\n",
       "    <tr>\n",
       "      <th>0</th>\n",
       "      <td>2022.06.01</td>\n",
       "      <td>00:01</td>\n",
       "      <td>1.07181</td>\n",
       "      <td>1.07183</td>\n",
       "      <td>1.07177</td>\n",
       "      <td>1.07181</td>\n",
       "      <td>0</td>\n",
       "    </tr>\n",
       "    <tr>\n",
       "      <th>1</th>\n",
       "      <td>2022.06.01</td>\n",
       "      <td>00:02</td>\n",
       "      <td>1.07182</td>\n",
       "      <td>1.07183</td>\n",
       "      <td>1.07172</td>\n",
       "      <td>1.07172</td>\n",
       "      <td>0</td>\n",
       "    </tr>\n",
       "    <tr>\n",
       "      <th>2</th>\n",
       "      <td>2022.06.01</td>\n",
       "      <td>00:03</td>\n",
       "      <td>1.07172</td>\n",
       "      <td>1.07172</td>\n",
       "      <td>1.07157</td>\n",
       "      <td>1.07158</td>\n",
       "      <td>0</td>\n",
       "    </tr>\n",
       "    <tr>\n",
       "      <th>3</th>\n",
       "      <td>2022.06.01</td>\n",
       "      <td>00:04</td>\n",
       "      <td>1.07157</td>\n",
       "      <td>1.07160</td>\n",
       "      <td>1.07151</td>\n",
       "      <td>1.07160</td>\n",
       "      <td>0</td>\n",
       "    </tr>\n",
       "    <tr>\n",
       "      <th>4</th>\n",
       "      <td>2022.06.01</td>\n",
       "      <td>00:05</td>\n",
       "      <td>1.07162</td>\n",
       "      <td>1.07163</td>\n",
       "      <td>1.07157</td>\n",
       "      <td>1.07162</td>\n",
       "      <td>0</td>\n",
       "    </tr>\n",
       "    <tr>\n",
       "      <th>...</th>\n",
       "      <td>...</td>\n",
       "      <td>...</td>\n",
       "      <td>...</td>\n",
       "      <td>...</td>\n",
       "      <td>...</td>\n",
       "      <td>...</td>\n",
       "      <td>...</td>\n",
       "    </tr>\n",
       "    <tr>\n",
       "      <th>31521</th>\n",
       "      <td>2022.06.30</td>\n",
       "      <td>23:54</td>\n",
       "      <td>1.04521</td>\n",
       "      <td>1.04530</td>\n",
       "      <td>1.04515</td>\n",
       "      <td>1.04527</td>\n",
       "      <td>0</td>\n",
       "    </tr>\n",
       "    <tr>\n",
       "      <th>31522</th>\n",
       "      <td>2022.06.30</td>\n",
       "      <td>23:55</td>\n",
       "      <td>1.04527</td>\n",
       "      <td>1.04542</td>\n",
       "      <td>1.04524</td>\n",
       "      <td>1.04540</td>\n",
       "      <td>0</td>\n",
       "    </tr>\n",
       "    <tr>\n",
       "      <th>31523</th>\n",
       "      <td>2022.06.30</td>\n",
       "      <td>23:56</td>\n",
       "      <td>1.04541</td>\n",
       "      <td>1.04551</td>\n",
       "      <td>1.04538</td>\n",
       "      <td>1.04547</td>\n",
       "      <td>0</td>\n",
       "    </tr>\n",
       "    <tr>\n",
       "      <th>31524</th>\n",
       "      <td>2022.06.30</td>\n",
       "      <td>23:57</td>\n",
       "      <td>1.04547</td>\n",
       "      <td>1.04554</td>\n",
       "      <td>1.04545</td>\n",
       "      <td>1.04548</td>\n",
       "      <td>0</td>\n",
       "    </tr>\n",
       "    <tr>\n",
       "      <th>31525</th>\n",
       "      <td>2022.06.30</td>\n",
       "      <td>23:58</td>\n",
       "      <td>1.04546</td>\n",
       "      <td>1.04555</td>\n",
       "      <td>1.04546</td>\n",
       "      <td>1.04546</td>\n",
       "      <td>0</td>\n",
       "    </tr>\n",
       "  </tbody>\n",
       "</table>\n",
       "<p>31526 rows × 7 columns</p>\n",
       "</div>"
      ],
      "text/plain": [
       "             date   time     open     high      low    close  volume\n",
       "0      2022.06.01  00:01  1.07181  1.07183  1.07177  1.07181       0\n",
       "1      2022.06.01  00:02  1.07182  1.07183  1.07172  1.07172       0\n",
       "2      2022.06.01  00:03  1.07172  1.07172  1.07157  1.07158       0\n",
       "3      2022.06.01  00:04  1.07157  1.07160  1.07151  1.07160       0\n",
       "4      2022.06.01  00:05  1.07162  1.07163  1.07157  1.07162       0\n",
       "...           ...    ...      ...      ...      ...      ...     ...\n",
       "31521  2022.06.30  23:54  1.04521  1.04530  1.04515  1.04527       0\n",
       "31522  2022.06.30  23:55  1.04527  1.04542  1.04524  1.04540       0\n",
       "31523  2022.06.30  23:56  1.04541  1.04551  1.04538  1.04547       0\n",
       "31524  2022.06.30  23:57  1.04547  1.04554  1.04545  1.04548       0\n",
       "31525  2022.06.30  23:58  1.04546  1.04555  1.04546  1.04546       0\n",
       "\n",
       "[31526 rows x 7 columns]"
      ]
     },
     "execution_count": 3,
     "metadata": {},
     "output_type": "execute_result"
    }
   ],
   "source": [
    "df"
   ]
  },
  {
   "cell_type": "code",
   "execution_count": 4,
   "metadata": {},
   "outputs": [
    {
     "data": {
      "text/html": [
       "<div>\n",
       "<style scoped>\n",
       "    .dataframe tbody tr th:only-of-type {\n",
       "        vertical-align: middle;\n",
       "    }\n",
       "\n",
       "    .dataframe tbody tr th {\n",
       "        vertical-align: top;\n",
       "    }\n",
       "\n",
       "    .dataframe thead th {\n",
       "        text-align: right;\n",
       "    }\n",
       "</style>\n",
       "<table border=\"1\" class=\"dataframe\">\n",
       "  <thead>\n",
       "    <tr style=\"text-align: right;\">\n",
       "      <th></th>\n",
       "      <th>date</th>\n",
       "      <th>time</th>\n",
       "      <th>open</th>\n",
       "      <th>high</th>\n",
       "      <th>low</th>\n",
       "      <th>close</th>\n",
       "      <th>volume</th>\n",
       "    </tr>\n",
       "  </thead>\n",
       "  <tbody>\n",
       "    <tr>\n",
       "      <th>0</th>\n",
       "      <td>2022.06.01</td>\n",
       "      <td>00:01</td>\n",
       "      <td>1.07181</td>\n",
       "      <td>1.07183</td>\n",
       "      <td>1.07177</td>\n",
       "      <td>1.07181</td>\n",
       "      <td>0</td>\n",
       "    </tr>\n",
       "    <tr>\n",
       "      <th>1</th>\n",
       "      <td>2022.06.01</td>\n",
       "      <td>00:02</td>\n",
       "      <td>1.07182</td>\n",
       "      <td>1.07183</td>\n",
       "      <td>1.07172</td>\n",
       "      <td>1.07172</td>\n",
       "      <td>0</td>\n",
       "    </tr>\n",
       "    <tr>\n",
       "      <th>2</th>\n",
       "      <td>2022.06.01</td>\n",
       "      <td>00:03</td>\n",
       "      <td>1.07172</td>\n",
       "      <td>1.07172</td>\n",
       "      <td>1.07157</td>\n",
       "      <td>1.07158</td>\n",
       "      <td>0</td>\n",
       "    </tr>\n",
       "    <tr>\n",
       "      <th>3</th>\n",
       "      <td>2022.06.01</td>\n",
       "      <td>00:04</td>\n",
       "      <td>1.07157</td>\n",
       "      <td>1.07160</td>\n",
       "      <td>1.07151</td>\n",
       "      <td>1.07160</td>\n",
       "      <td>0</td>\n",
       "    </tr>\n",
       "    <tr>\n",
       "      <th>4</th>\n",
       "      <td>2022.06.01</td>\n",
       "      <td>00:05</td>\n",
       "      <td>1.07162</td>\n",
       "      <td>1.07163</td>\n",
       "      <td>1.07157</td>\n",
       "      <td>1.07162</td>\n",
       "      <td>0</td>\n",
       "    </tr>\n",
       "  </tbody>\n",
       "</table>\n",
       "</div>"
      ],
      "text/plain": [
       "         date   time     open     high      low    close  volume\n",
       "0  2022.06.01  00:01  1.07181  1.07183  1.07177  1.07181       0\n",
       "1  2022.06.01  00:02  1.07182  1.07183  1.07172  1.07172       0\n",
       "2  2022.06.01  00:03  1.07172  1.07172  1.07157  1.07158       0\n",
       "3  2022.06.01  00:04  1.07157  1.07160  1.07151  1.07160       0\n",
       "4  2022.06.01  00:05  1.07162  1.07163  1.07157  1.07162       0"
      ]
     },
     "execution_count": 4,
     "metadata": {},
     "output_type": "execute_result"
    }
   ],
   "source": [
    "df.head()"
   ]
  },
  {
   "cell_type": "markdown",
   "metadata": {},
   "source": [
    "### Verificando valores omissos"
   ]
  },
  {
   "cell_type": "code",
   "execution_count": 5,
   "metadata": {},
   "outputs": [
    {
     "data": {
      "text/plain": [
       "date      0\n",
       "time      0\n",
       "open      0\n",
       "high      0\n",
       "low       0\n",
       "close     0\n",
       "volume    0\n",
       "dtype: int64"
      ]
     },
     "execution_count": 5,
     "metadata": {},
     "output_type": "execute_result"
    }
   ],
   "source": [
    "df.isnull().sum()"
   ]
  },
  {
   "cell_type": "markdown",
   "metadata": {},
   "source": [
    "### Análise e exploração dos dados"
   ]
  },
  {
   "cell_type": "code",
   "execution_count": 6,
   "metadata": {},
   "outputs": [
    {
     "data": {
      "text/plain": [
       "<AxesSubplot:>"
      ]
     },
     "execution_count": 6,
     "metadata": {},
     "output_type": "execute_result"
    },
    {
     "data": {
      "image/png": "[encoded data removed]",
      "text/plain": [
       "<Figure size 504x360 with 2 Axes>"
      ]
     },
     "metadata": {
      "needs_background": "light"
     },
     "output_type": "display_data"
    }
   ],
   "source": [
    "import matplotlib.pyplot as plt\n",
    "import seaborn as sns\n",
    "\n",
    "plt.figure(figsize=(7, 5))\n",
    "sns.heatmap(df.corr(), annot=True)"
   ]
  },
  {
   "cell_type": "code",
   "execution_count": 7,
   "metadata": {},
   "outputs": [
    {
     "data": {
      "text/html": [
       "<div>\n",
       "<style scoped>\n",
       "    .dataframe tbody tr th:only-of-type {\n",
       "        vertical-align: middle;\n",
       "    }\n",
       "\n",
       "    .dataframe tbody tr th {\n",
       "        vertical-align: top;\n",
       "    }\n",
       "\n",
       "    .dataframe thead th {\n",
       "        text-align: right;\n",
       "    }\n",
       "</style>\n",
       "<table border=\"1\" class=\"dataframe\">\n",
       "  <thead>\n",
       "    <tr style=\"text-align: right;\">\n",
       "      <th></th>\n",
       "      <th>date</th>\n",
       "      <th>time</th>\n",
       "      <th>open</th>\n",
       "      <th>high</th>\n",
       "      <th>low</th>\n",
       "      <th>close</th>\n",
       "      <th>volume</th>\n",
       "      <th>open-high</th>\n",
       "      <th>open-low</th>\n",
       "      <th>close-high</th>\n",
       "      <th>close-low</th>\n",
       "      <th>high-low</th>\n",
       "      <th>open-close</th>\n",
       "    </tr>\n",
       "  </thead>\n",
       "  <tbody>\n",
       "    <tr>\n",
       "      <th>0</th>\n",
       "      <td>2022.06.01</td>\n",
       "      <td>00:01</td>\n",
       "      <td>1.07181</td>\n",
       "      <td>1.07183</td>\n",
       "      <td>1.07177</td>\n",
       "      <td>1.07181</td>\n",
       "      <td>0</td>\n",
       "      <td>-0.00002</td>\n",
       "      <td>0.00004</td>\n",
       "      <td>-0.00002</td>\n",
       "      <td>0.00004</td>\n",
       "      <td>0.00006</td>\n",
       "      <td>0.00000</td>\n",
       "    </tr>\n",
       "    <tr>\n",
       "      <th>1</th>\n",
       "      <td>2022.06.01</td>\n",
       "      <td>00:02</td>\n",
       "      <td>1.07182</td>\n",
       "      <td>1.07183</td>\n",
       "      <td>1.07172</td>\n",
       "      <td>1.07172</td>\n",
       "      <td>0</td>\n",
       "      <td>-0.00001</td>\n",
       "      <td>0.00010</td>\n",
       "      <td>-0.00011</td>\n",
       "      <td>0.00000</td>\n",
       "      <td>0.00011</td>\n",
       "      <td>0.00010</td>\n",
       "    </tr>\n",
       "    <tr>\n",
       "      <th>2</th>\n",
       "      <td>2022.06.01</td>\n",
       "      <td>00:03</td>\n",
       "      <td>1.07172</td>\n",
       "      <td>1.07172</td>\n",
       "      <td>1.07157</td>\n",
       "      <td>1.07158</td>\n",
       "      <td>0</td>\n",
       "      <td>0.00000</td>\n",
       "      <td>0.00015</td>\n",
       "      <td>-0.00014</td>\n",
       "      <td>0.00001</td>\n",
       "      <td>0.00015</td>\n",
       "      <td>0.00014</td>\n",
       "    </tr>\n",
       "    <tr>\n",
       "      <th>3</th>\n",
       "      <td>2022.06.01</td>\n",
       "      <td>00:04</td>\n",
       "      <td>1.07157</td>\n",
       "      <td>1.07160</td>\n",
       "      <td>1.07151</td>\n",
       "      <td>1.07160</td>\n",
       "      <td>0</td>\n",
       "      <td>-0.00003</td>\n",
       "      <td>0.00006</td>\n",
       "      <td>0.00000</td>\n",
       "      <td>0.00009</td>\n",
       "      <td>0.00009</td>\n",
       "      <td>-0.00003</td>\n",
       "    </tr>\n",
       "    <tr>\n",
       "      <th>4</th>\n",
       "      <td>2022.06.01</td>\n",
       "      <td>00:05</td>\n",
       "      <td>1.07162</td>\n",
       "      <td>1.07163</td>\n",
       "      <td>1.07157</td>\n",
       "      <td>1.07162</td>\n",
       "      <td>0</td>\n",
       "      <td>-0.00001</td>\n",
       "      <td>0.00005</td>\n",
       "      <td>-0.00001</td>\n",
       "      <td>0.00005</td>\n",
       "      <td>0.00006</td>\n",
       "      <td>0.00000</td>\n",
       "    </tr>\n",
       "  </tbody>\n",
       "</table>\n",
       "</div>"
      ],
      "text/plain": [
       "         date   time     open     high      low    close  volume  open-high  \\\n",
       "0  2022.06.01  00:01  1.07181  1.07183  1.07177  1.07181       0   -0.00002   \n",
       "1  2022.06.01  00:02  1.07182  1.07183  1.07172  1.07172       0   -0.00001   \n",
       "2  2022.06.01  00:03  1.07172  1.07172  1.07157  1.07158       0    0.00000   \n",
       "3  2022.06.01  00:04  1.07157  1.07160  1.07151  1.07160       0   -0.00003   \n",
       "4  2022.06.01  00:05  1.07162  1.07163  1.07157  1.07162       0   -0.00001   \n",
       "\n",
       "   open-low  close-high  close-low  high-low  open-close  \n",
       "0   0.00004    -0.00002    0.00004   0.00006     0.00000  \n",
       "1   0.00010    -0.00011    0.00000   0.00011     0.00010  \n",
       "2   0.00015    -0.00014    0.00001   0.00015     0.00014  \n",
       "3   0.00006     0.00000    0.00009   0.00009    -0.00003  \n",
       "4   0.00005    -0.00001    0.00005   0.00006     0.00000  "
      ]
     },
     "execution_count": 7,
     "metadata": {},
     "output_type": "execute_result"
    }
   ],
   "source": [
    "df['open-high'] = df['open']-df['high']\n",
    "df['open-low'] = df['open'] - df['low']\n",
    "df['close-high'] = df['close']-df['high']\n",
    "df['close-low'] = df['close'] - df['low']\n",
    "df['high-low'] = df['high'] - df['low']\n",
    "df['open-close'] = df['open'] - df['close']\n",
    "df.head()"
   ]
  },
  {
   "cell_type": "code",
   "execution_count": 8,
   "metadata": {},
   "outputs": [
    {
     "data": {
      "text/plain": [
       "<AxesSubplot:>"
      ]
     },
     "execution_count": 8,
     "metadata": {},
     "output_type": "execute_result"
    },
    {
     "data": {
      "image/png": "[encoded data removed]",
      "text/plain": [
       "<Figure size 504x360 with 2 Axes>"
      ]
     },
     "metadata": {
      "needs_background": "light"
     },
     "output_type": "display_data"
    }
   ],
   "source": [
    "df2 = df.copy(True)\n",
    "df2 = df2.drop(['open', 'high', 'low', 'close', 'volume'], axis=1)\n",
    "plt.figure(figsize=(7, 5))\n",
    "sns.heatmap(df2.corr(), annot=True)"
   ]
  },
  {
   "cell_type": "code",
   "execution_count": 9,
   "metadata": {},
   "outputs": [],
   "source": [
    "# Instalar a biblitoeca\n",
    "# pip install --upgrade mplfinance"
   ]
  },
  {
   "cell_type": "code",
   "execution_count": 10,
   "metadata": {},
   "outputs": [
    {
     "data": {
      "text/html": [
       "<div>\n",
       "<style scoped>\n",
       "    .dataframe tbody tr th:only-of-type {\n",
       "        vertical-align: middle;\n",
       "    }\n",
       "\n",
       "    .dataframe tbody tr th {\n",
       "        vertical-align: top;\n",
       "    }\n",
       "\n",
       "    .dataframe thead th {\n",
       "        text-align: right;\n",
       "    }\n",
       "</style>\n",
       "<table border=\"1\" class=\"dataframe\">\n",
       "  <thead>\n",
       "    <tr style=\"text-align: right;\">\n",
       "      <th></th>\n",
       "      <th>open</th>\n",
       "      <th>high</th>\n",
       "      <th>low</th>\n",
       "      <th>close</th>\n",
       "    </tr>\n",
       "    <tr>\n",
       "      <th>datetime</th>\n",
       "      <th></th>\n",
       "      <th></th>\n",
       "      <th></th>\n",
       "      <th></th>\n",
       "    </tr>\n",
       "  </thead>\n",
       "  <tbody>\n",
       "    <tr>\n",
       "      <th>2022-06-01 00:01:00</th>\n",
       "      <td>1.07181</td>\n",
       "      <td>1.07183</td>\n",
       "      <td>1.07177</td>\n",
       "      <td>1.07181</td>\n",
       "    </tr>\n",
       "    <tr>\n",
       "      <th>2022-06-01 00:02:00</th>\n",
       "      <td>1.07182</td>\n",
       "      <td>1.07183</td>\n",
       "      <td>1.07172</td>\n",
       "      <td>1.07172</td>\n",
       "    </tr>\n",
       "    <tr>\n",
       "      <th>2022-06-01 00:03:00</th>\n",
       "      <td>1.07172</td>\n",
       "      <td>1.07172</td>\n",
       "      <td>1.07157</td>\n",
       "      <td>1.07158</td>\n",
       "    </tr>\n",
       "    <tr>\n",
       "      <th>2022-06-01 00:04:00</th>\n",
       "      <td>1.07157</td>\n",
       "      <td>1.07160</td>\n",
       "      <td>1.07151</td>\n",
       "      <td>1.07160</td>\n",
       "    </tr>\n",
       "    <tr>\n",
       "      <th>2022-06-01 00:05:00</th>\n",
       "      <td>1.07162</td>\n",
       "      <td>1.07163</td>\n",
       "      <td>1.07157</td>\n",
       "      <td>1.07162</td>\n",
       "    </tr>\n",
       "  </tbody>\n",
       "</table>\n",
       "</div>"
      ],
      "text/plain": [
       "                        open     high      low    close\n",
       "datetime                                               \n",
       "2022-06-01 00:01:00  1.07181  1.07183  1.07177  1.07181\n",
       "2022-06-01 00:02:00  1.07182  1.07183  1.07172  1.07172\n",
       "2022-06-01 00:03:00  1.07172  1.07172  1.07157  1.07158\n",
       "2022-06-01 00:04:00  1.07157  1.07160  1.07151  1.07160\n",
       "2022-06-01 00:05:00  1.07162  1.07163  1.07157  1.07162"
      ]
     },
     "execution_count": 10,
     "metadata": {},
     "output_type": "execute_result"
    }
   ],
   "source": [
    "import mplfinance as mpf\n",
    "\n",
    "# cópia do DataFrame\n",
    "df3 = df.copy(True)\n",
    "\n",
    "# criação da coluna contendo data e tempo\n",
    "df3['datetime'] = df3['date'] + ' ' + df3['time']\n",
    "\n",
    "# conversão dos dados dessa coluna para o objeto datetime\n",
    "df3['datetime'] = pd.to_datetime(df3['datetime'])\n",
    "\n",
    "# remoção das colunas que não serão utilizadas\n",
    "df3 = df3.drop(['date', 'time', 'volume', 'open-high', 'open-low',\n",
    "               'close-high',\t'close-low',\t'high-low', 'open-close'], axis=1)\n",
    "\n",
    "# definição da coluna datetime como índice do DataFrame\n",
    "df3.set_index('datetime', inplace=True, drop=True)\n",
    "\n",
    "# Visualização das primeiras 5 linhas\n",
    "df3.head()"
   ]
  },
  {
   "cell_type": "code",
   "execution_count": 11,
   "metadata": {},
   "outputs": [
    {
     "data": {
      "image/png": "[encoded data removed]",
      "text/plain": [
       "<Figure size 800x575 with 2 Axes>"
      ]
     },
     "metadata": {},
     "output_type": "display_data"
    }
   ],
   "source": [
    "# Gerando o gráfico de linha\n",
    "mpf.plot(df3, type='line')"
   ]
  },
  {
   "cell_type": "code",
   "execution_count": 12,
   "metadata": {},
   "outputs": [
    {
     "data": {
      "image/png": "[encoded data removed]",
      "text/plain": [
       "<Figure size 800x575 with 2 Axes>"
      ]
     },
     "metadata": {},
     "output_type": "display_data"
    }
   ],
   "source": [
    "# Gerando o gráfico de candlestick\n",
    "dias = df3.loc['2022-06-01 14:00':'2022-06-01 15:00', :]\n",
    "mpf.plot(dias, type='candle')"
   ]
  },
  {
   "cell_type": "markdown",
   "metadata": {},
   "source": [
    "### Preparação dos dados para os modelos de aprendizado de máquina"
   ]
  },
  {
   "cell_type": "code",
   "execution_count": 13,
   "metadata": {},
   "outputs": [
    {
     "data": {
      "text/html": [
       "<div>\n",
       "<style scoped>\n",
       "    .dataframe tbody tr th:only-of-type {\n",
       "        vertical-align: middle;\n",
       "    }\n",
       "\n",
       "    .dataframe tbody tr th {\n",
       "        vertical-align: top;\n",
       "    }\n",
       "\n",
       "    .dataframe thead th {\n",
       "        text-align: right;\n",
       "    }\n",
       "</style>\n",
       "<table border=\"1\" class=\"dataframe\">\n",
       "  <thead>\n",
       "    <tr style=\"text-align: right;\">\n",
       "      <th></th>\n",
       "      <th>date</th>\n",
       "      <th>time</th>\n",
       "      <th>open</th>\n",
       "      <th>high</th>\n",
       "      <th>low</th>\n",
       "      <th>close</th>\n",
       "      <th>volume</th>\n",
       "    </tr>\n",
       "  </thead>\n",
       "  <tbody>\n",
       "    <tr>\n",
       "      <th>0</th>\n",
       "      <td>2022.06.01</td>\n",
       "      <td>00:01</td>\n",
       "      <td>1.07181</td>\n",
       "      <td>1.07183</td>\n",
       "      <td>1.07177</td>\n",
       "      <td>1.07181</td>\n",
       "      <td>0</td>\n",
       "    </tr>\n",
       "    <tr>\n",
       "      <th>1</th>\n",
       "      <td>2022.06.01</td>\n",
       "      <td>00:02</td>\n",
       "      <td>1.07182</td>\n",
       "      <td>1.07183</td>\n",
       "      <td>1.07172</td>\n",
       "      <td>1.07172</td>\n",
       "      <td>0</td>\n",
       "    </tr>\n",
       "    <tr>\n",
       "      <th>2</th>\n",
       "      <td>2022.06.01</td>\n",
       "      <td>00:03</td>\n",
       "      <td>1.07172</td>\n",
       "      <td>1.07172</td>\n",
       "      <td>1.07157</td>\n",
       "      <td>1.07158</td>\n",
       "      <td>0</td>\n",
       "    </tr>\n",
       "    <tr>\n",
       "      <th>3</th>\n",
       "      <td>2022.06.01</td>\n",
       "      <td>00:04</td>\n",
       "      <td>1.07157</td>\n",
       "      <td>1.07160</td>\n",
       "      <td>1.07151</td>\n",
       "      <td>1.07160</td>\n",
       "      <td>0</td>\n",
       "    </tr>\n",
       "    <tr>\n",
       "      <th>4</th>\n",
       "      <td>2022.06.01</td>\n",
       "      <td>00:05</td>\n",
       "      <td>1.07162</td>\n",
       "      <td>1.07163</td>\n",
       "      <td>1.07157</td>\n",
       "      <td>1.07162</td>\n",
       "      <td>0</td>\n",
       "    </tr>\n",
       "  </tbody>\n",
       "</table>\n",
       "</div>"
      ],
      "text/plain": [
       "         date   time     open     high      low    close  volume\n",
       "0  2022.06.01  00:01  1.07181  1.07183  1.07177  1.07181       0\n",
       "1  2022.06.01  00:02  1.07182  1.07183  1.07172  1.07172       0\n",
       "2  2022.06.01  00:03  1.07172  1.07172  1.07157  1.07158       0\n",
       "3  2022.06.01  00:04  1.07157  1.07160  1.07151  1.07160       0\n",
       "4  2022.06.01  00:05  1.07162  1.07163  1.07157  1.07162       0"
      ]
     },
     "execution_count": 13,
     "metadata": {},
     "output_type": "execute_result"
    }
   ],
   "source": [
    "colunas = ['date', 'time', 'open', 'high', 'low', 'close', 'volume']\n",
    "df = pd.read_csv('../dataset/dataset-exemplo-202206.csv')\n",
    "df.columns = colunas\n",
    "\n",
    "df.head()"
   ]
  },
  {
   "cell_type": "code",
   "execution_count": 14,
   "metadata": {},
   "outputs": [],
   "source": [
    "df = df.head(3000)"
   ]
  },
  {
   "cell_type": "markdown",
   "metadata": {},
   "source": [
    "#### Redimensionar os dados em X e y"
   ]
  },
  {
   "cell_type": "code",
   "execution_count": 15,
   "metadata": {},
   "outputs": [],
   "source": [
    "def dimensionamento_de_dados(df, JANELA=15, previsao=1):\n",
    "  X = []\n",
    "  Y = []\n",
    "  total = 0\n",
    "  for i in range(0, len(df), 1):\n",
    "    try:\n",
    "      open = df.open.values.tolist()[i:i+JANELA]\n",
    "      high = df.high.values.tolist()[i:i+JANELA]\n",
    "      low = df.low.values.tolist()[i:i+JANELA]\n",
    "      close = df.close.values.tolist()[i:i+JANELA]\n",
    "      adj = df.adj.values.tolist()[i:i+JANELA]\n",
    "      macd = df.macd.values.tolist()[i:i+JANELA]\n",
    "      x_i = df.close.values.tolist()[i:i+JANELA]\n",
    "      y_i = df.close.values.tolist()[i+JANELA+previsao]\n",
    "\n",
    "      anterior_close = x_i[-1]\n",
    "      proximo_close = y_i\n",
    "\n",
    "      if len(close) == JANELA:\n",
    "        if anterior_close < proximo_close:\n",
    "          y_i = [1, 0]\n",
    "        else:\n",
    "          y_i = [0, 1]\n",
    "          total += 1\n",
    "        \n",
    "        # Cálculo do zscore no intervalo de janela de tempo.\n",
    "        open = (np.array(open) - np.mean(open)) / np.std(open)\n",
    "        high = (np.array(high) - np.mean(high)) / np.std(high)\n",
    "        low = (np.array(low) - np.mean(low)) / np.std(low)\n",
    "        close = (np.array(close) - np.mean(close)) / np.std(close)\n",
    "        adj = (np.array(adj) - np.mean(adj)) / np.std(adj)\n",
    "        macd = (np.array(macd) - np.mean(macd)) / np.std(macd)\n",
    "        X.append(np.column_stack((open, high, low, adj, close, macd)))\n",
    "        Y.append(y_i)\n",
    "      else:\n",
    "        continue\n",
    "    except Exception as e:\n",
    "      print(e)\n",
    "      break\n",
    "  return X, Y"
   ]
  },
  {
   "cell_type": "markdown",
   "metadata": {},
   "source": [
    "#### Formatar dados"
   ]
  },
  {
   "cell_type": "code",
   "execution_count": 16,
   "metadata": {},
   "outputs": [],
   "source": [
    "def formatar_dados(df):\n",
    "  df['adj'] = df.close.pct_change(1).shift(-1)\n",
    "  df = df.dropna()\n",
    "  df = df.reset_index(drop=True)\n",
    "  exp1 = df.close.ewm(span=12, adjust=False).mean()\n",
    "  exp2 = df.close.ewm(span=26, adjust=False).mean()\n",
    "  macd = exp1-exp2\n",
    "  exp3 = macd.ewm(span=9, adjust=False).mean()\n",
    "  df['macd'] = exp3\n",
    "\n",
    "  return dimensionamento_de_dados(df)"
   ]
  },
  {
   "cell_type": "markdown",
   "metadata": {},
   "source": [
    "#### Montar dataset tradicional"
   ]
  },
  {
   "cell_type": "code",
   "execution_count": 17,
   "metadata": {},
   "outputs": [],
   "source": [
    "# Transformar a matriz em um array\n",
    "def dataset_tradicional(dados, target):\n",
    "  X = []\n",
    "  y = []\n",
    "  for valor, t in zip(dados, target):\n",
    "    new_shape = (valor.shape[0] * valor.shape[1])\n",
    "    X.append(valor[:].reshape(new_shape))\n",
    "    y.append(t[0])\n",
    "\n",
    "  return X, y"
   ]
  },
  {
   "cell_type": "code",
   "execution_count": 18,
   "metadata": {},
   "outputs": [
    {
     "name": "stdout",
     "output_type": "stream",
     "text": [
      "list index out of range\n"
     ]
    }
   ],
   "source": [
    "X, y = formatar_dados(df)"
   ]
  },
  {
   "cell_type": "code",
   "execution_count": 19,
   "metadata": {},
   "outputs": [
    {
     "data": {
      "text/plain": [
       "(15, 6)"
      ]
     },
     "execution_count": 19,
     "metadata": {},
     "output_type": "execute_result"
    }
   ],
   "source": [
    "X[0].shape"
   ]
  },
  {
   "cell_type": "code",
   "execution_count": 20,
   "metadata": {},
   "outputs": [],
   "source": [
    "X_dados_tradicional, y_dados_tradicional = dataset_tradicional(X, y)"
   ]
  },
  {
   "cell_type": "markdown",
   "metadata": {},
   "source": [
    "#### Divisão do dataset em base de treino e teste"
   ]
  },
  {
   "cell_type": "code",
   "execution_count": 21,
   "metadata": {},
   "outputs": [],
   "source": [
    "from sklearn.model_selection import train_test_split\n",
    "\n",
    "X_train, X_test, y_train, y_test = train_test_split(\n",
    "                                      X_dados_tradicional,\n",
    "                                      y_dados_tradicional,\n",
    "                                      test_size=0.30,\n",
    "                                      shuffle=True,\n",
    "                                      random_state=42\n",
    "                                    )"
   ]
  },
  {
   "cell_type": "code",
   "execution_count": 22,
   "metadata": {},
   "outputs": [],
   "source": [
    "X_train, X_test, y_train, y_test = np.array(X_train), np.array(X_test), np.array(y_train), np.array(y_test)"
   ]
  },
  {
   "cell_type": "markdown",
   "metadata": {},
   "source": [
    "### SVC"
   ]
  },
  {
   "cell_type": "code",
   "execution_count": 23,
   "metadata": {},
   "outputs": [],
   "source": [
    "from sklearn import svm\n",
    "from sklearn.svm import SVC"
   ]
  },
  {
   "cell_type": "code",
   "execution_count": 24,
   "metadata": {},
   "outputs": [],
   "source": [
    "svclassifier = SVC(kernel='rbf')\n",
    "svclassifier.fit(X_train, y_train)\n",
    "y_pred = svclassifier.predict(X_test)"
   ]
  },
  {
   "cell_type": "code",
   "execution_count": 27,
   "metadata": {},
   "outputs": [],
   "source": [
    "from sklearn.metrics import confusion_matrix, classification_report, accuracy_score"
   ]
  },
  {
   "cell_type": "code",
   "execution_count": 28,
   "metadata": {},
   "outputs": [
    {
     "name": "stdout",
     "output_type": "stream",
     "text": [
      "[[364 102]\n",
      " [145 284]]\n"
     ]
    }
   ],
   "source": [
    "print(confusion_matrix(y_test, y_pred))"
   ]
  },
  {
   "cell_type": "code",
   "execution_count": 29,
   "metadata": {},
   "outputs": [
    {
     "name": "stdout",
     "output_type": "stream",
     "text": [
      "              precision    recall  f1-score   support\n",
      "\n",
      "           0       0.72      0.78      0.75       466\n",
      "           1       0.74      0.66      0.70       429\n",
      "\n",
      "    accuracy                           0.72       895\n",
      "   macro avg       0.73      0.72      0.72       895\n",
      "weighted avg       0.73      0.72      0.72       895\n",
      "\n"
     ]
    }
   ],
   "source": [
    "print(classification_report(y_test, y_pred))\n"
   ]
  },
  {
   "cell_type": "code",
   "execution_count": 30,
   "metadata": {},
   "outputs": [
    {
     "name": "stdout",
     "output_type": "stream",
     "text": [
      "Precisão do modelo: 72.4%\n"
     ]
    }
   ],
   "source": [
    "print(\n",
    "    f'Precisão do modelo: {round(accuracy_score(y_test, y_pred.round())*100, 2)}%'\n",
    ")"
   ]
  },
  {
   "cell_type": "markdown",
   "metadata": {},
   "source": [
    "### Random Forest"
   ]
  },
  {
   "cell_type": "code",
   "execution_count": 31,
   "metadata": {},
   "outputs": [],
   "source": [
    "from sklearn.ensemble import RandomForestClassifier"
   ]
  },
  {
   "cell_type": "code",
   "execution_count": 32,
   "metadata": {},
   "outputs": [],
   "source": [
    "random_forest = RandomForestClassifier(n_estimators=20, random_state=0)\n",
    "random_forest.fit(X_train, y_train)\n",
    "y_pred = random_forest.predict(X_test)"
   ]
  },
  {
   "cell_type": "code",
   "execution_count": 33,
   "metadata": {},
   "outputs": [
    {
     "name": "stdout",
     "output_type": "stream",
     "text": [
      "[[354 112]\n",
      " [143 286]]\n"
     ]
    }
   ],
   "source": [
    "print(confusion_matrix(y_test, y_pred.round()))"
   ]
  },
  {
   "cell_type": "code",
   "execution_count": 34,
   "metadata": {},
   "outputs": [
    {
     "name": "stdout",
     "output_type": "stream",
     "text": [
      "              precision    recall  f1-score   support\n",
      "\n",
      "           0       0.71      0.76      0.74       466\n",
      "           1       0.72      0.67      0.69       429\n",
      "\n",
      "    accuracy                           0.72       895\n",
      "   macro avg       0.72      0.71      0.71       895\n",
      "weighted avg       0.72      0.72      0.71       895\n",
      "\n"
     ]
    }
   ],
   "source": [
    "print(classification_report(y_test, y_pred.round()))"
   ]
  },
  {
   "cell_type": "code",
   "execution_count": 35,
   "metadata": {},
   "outputs": [
    {
     "name": "stdout",
     "output_type": "stream",
     "text": [
      "Precisão do modelo: 71.51%\n"
     ]
    }
   ],
   "source": [
    "print(f'Precisão do modelo: {round(accuracy_score(y_test, y_pred.round())*100, 2)}%')"
   ]
  },
  {
   "cell_type": "markdown",
   "metadata": {},
   "source": [
    "### Random Forest Regressor"
   ]
  },
  {
   "cell_type": "code",
   "execution_count": 36,
   "metadata": {},
   "outputs": [],
   "source": [
    "from sklearn.ensemble import RandomForestRegressor"
   ]
  },
  {
   "cell_type": "code",
   "execution_count": 37,
   "metadata": {},
   "outputs": [],
   "source": [
    "random_forest_regressor = RandomForestRegressor(n_estimators=20, random_state=0)\n",
    "random_forest_regressor.fit(X_train, y_train)\n",
    "y_pred = random_forest_regressor.predict(X_test)"
   ]
  },
  {
   "cell_type": "code",
   "execution_count": 38,
   "metadata": {},
   "outputs": [
    {
     "name": "stdout",
     "output_type": "stream",
     "text": [
      "[[360 106]\n",
      " [148 281]]\n"
     ]
    }
   ],
   "source": [
    "print(confusion_matrix(y_test, y_pred.round()))"
   ]
  },
  {
   "cell_type": "code",
   "execution_count": 39,
   "metadata": {},
   "outputs": [
    {
     "name": "stdout",
     "output_type": "stream",
     "text": [
      "              precision    recall  f1-score   support\n",
      "\n",
      "           0       0.71      0.77      0.74       466\n",
      "           1       0.73      0.66      0.69       429\n",
      "\n",
      "    accuracy                           0.72       895\n",
      "   macro avg       0.72      0.71      0.71       895\n",
      "weighted avg       0.72      0.72      0.72       895\n",
      "\n"
     ]
    }
   ],
   "source": [
    "print(classification_report(y_test, y_pred.round()))"
   ]
  },
  {
   "cell_type": "code",
   "execution_count": 40,
   "metadata": {},
   "outputs": [
    {
     "name": "stdout",
     "output_type": "stream",
     "text": [
      "Precisão do modelo: 71.62%\n"
     ]
    }
   ],
   "source": [
    "print(f'Precisão do modelo: {round(accuracy_score(y_test, y_pred.round())*100, 2)}%')"
   ]
  },
  {
   "cell_type": "markdown",
   "metadata": {},
   "source": [
    "### Gradient Boosting"
   ]
  },
  {
   "cell_type": "code",
   "execution_count": null,
   "metadata": {},
   "outputs": [],
   "source": [
    "%pip install xgboost"
   ]
  },
  {
   "cell_type": "code",
   "execution_count": 41,
   "metadata": {},
   "outputs": [],
   "source": [
    "from xgboost import XGBClassifier"
   ]
  },
  {
   "cell_type": "code",
   "execution_count": 42,
   "metadata": {},
   "outputs": [],
   "source": [
    "xgb = XGBClassifier(n_estimators=100,\n",
    "                    max_depth=10,\n",
    "                    learning_rate=0.01,\n",
    "                    subsample=1,\n",
    "                    random_state=0)\n",
    "xgb.fit(X_train, y_train)\n",
    "y_pred = xgb.predict(X_test)"
   ]
  },
  {
   "cell_type": "code",
   "execution_count": 43,
   "metadata": {},
   "outputs": [
    {
     "name": "stdout",
     "output_type": "stream",
     "text": [
      "[[342 124]\n",
      " [138 291]]\n"
     ]
    }
   ],
   "source": [
    "print(confusion_matrix(y_test, y_pred.round()))"
   ]
  },
  {
   "cell_type": "code",
   "execution_count": 44,
   "metadata": {},
   "outputs": [
    {
     "name": "stdout",
     "output_type": "stream",
     "text": [
      "              precision    recall  f1-score   support\n",
      "\n",
      "           0       0.71      0.73      0.72       466\n",
      "           1       0.70      0.68      0.69       429\n",
      "\n",
      "    accuracy                           0.71       895\n",
      "   macro avg       0.71      0.71      0.71       895\n",
      "weighted avg       0.71      0.71      0.71       895\n",
      "\n"
     ]
    }
   ],
   "source": [
    "print(classification_report(y_test, y_pred.round()))"
   ]
  },
  {
   "cell_type": "code",
   "execution_count": 45,
   "metadata": {},
   "outputs": [
    {
     "name": "stdout",
     "output_type": "stream",
     "text": [
      "Precisão do modelo: 70.73%\n"
     ]
    }
   ],
   "source": [
    "print(f'Precisão do modelo: {round(accuracy_score(y_test, y_pred.round())*100, 2)}%')"
   ]
  }
 ],
 "metadata": {
  "kernelspec": {
   "display_name": "Python 3.9.13 64-bit (windows store)",
   "language": "python",
   "name": "python3"
  },
  "language_info": {
   "codemirror_mode": {
    "name": "ipython",
    "version": 3
   },
   "file_extension": ".py",
   "mimetype": "text/x-python",
   "name": "python",
   "nbconvert_exporter": "python",
   "pygments_lexer": "ipython3",
   "version": "3.9.13"
  },
  "orig_nbformat": 4,
  "vscode": {
   "interpreter": {
    "hash": "0d684c98b18f3d79a5c4c152b0735312291ba1e782838a5de47e42fe0105cd28"
   }
  }
 },
 "nbformat": 4,
 "nbformat_minor": 2
}
