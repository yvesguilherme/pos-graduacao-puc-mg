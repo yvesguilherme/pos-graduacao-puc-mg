{
 "cells": [
  {
   "cell_type": "markdown",
   "metadata": {},
   "source": [
    "### Importando as bibliotecas"
   ]
  },
  {
   "cell_type": "code",
   "execution_count": 1,
   "metadata": {},
   "outputs": [],
   "source": [
    "import pandas as pd\n"
   ]
  },
  {
   "cell_type": "markdown",
   "metadata": {},
   "source": [
    "### Importando o dataset"
   ]
  },
  {
   "cell_type": "code",
   "execution_count": 5,
   "metadata": {},
   "outputs": [],
   "source": [
    "colunas = ['date', 'time', 'open', 'high', 'low', 'close', 'volume']\n",
    "df = pd.read_csv('../dataset/dataset-exemplo-202206.csv')\n",
    "df.columns = colunas"
   ]
  },
  {
   "cell_type": "code",
   "execution_count": 6,
   "metadata": {},
   "outputs": [
    {
     "data": {
      "text/html": [
       "<div>\n",
       "<style scoped>\n",
       "    .dataframe tbody tr th:only-of-type {\n",
       "        vertical-align: middle;\n",
       "    }\n",
       "\n",
       "    .dataframe tbody tr th {\n",
       "        vertical-align: top;\n",
       "    }\n",
       "\n",
       "    .dataframe thead th {\n",
       "        text-align: right;\n",
       "    }\n",
       "</style>\n",
       "<table border=\"1\" class=\"dataframe\">\n",
       "  <thead>\n",
       "    <tr style=\"text-align: right;\">\n",
       "      <th></th>\n",
       "      <th>date</th>\n",
       "      <th>time</th>\n",
       "      <th>open</th>\n",
       "      <th>high</th>\n",
       "      <th>low</th>\n",
       "      <th>close</th>\n",
       "      <th>volume</th>\n",
       "    </tr>\n",
       "  </thead>\n",
       "  <tbody>\n",
       "    <tr>\n",
       "      <th>0</th>\n",
       "      <td>2022.06.01</td>\n",
       "      <td>00:01</td>\n",
       "      <td>1.07181</td>\n",
       "      <td>1.07183</td>\n",
       "      <td>1.07177</td>\n",
       "      <td>1.07181</td>\n",
       "      <td>0</td>\n",
       "    </tr>\n",
       "    <tr>\n",
       "      <th>1</th>\n",
       "      <td>2022.06.01</td>\n",
       "      <td>00:02</td>\n",
       "      <td>1.07182</td>\n",
       "      <td>1.07183</td>\n",
       "      <td>1.07172</td>\n",
       "      <td>1.07172</td>\n",
       "      <td>0</td>\n",
       "    </tr>\n",
       "    <tr>\n",
       "      <th>2</th>\n",
       "      <td>2022.06.01</td>\n",
       "      <td>00:03</td>\n",
       "      <td>1.07172</td>\n",
       "      <td>1.07172</td>\n",
       "      <td>1.07157</td>\n",
       "      <td>1.07158</td>\n",
       "      <td>0</td>\n",
       "    </tr>\n",
       "    <tr>\n",
       "      <th>3</th>\n",
       "      <td>2022.06.01</td>\n",
       "      <td>00:04</td>\n",
       "      <td>1.07157</td>\n",
       "      <td>1.07160</td>\n",
       "      <td>1.07151</td>\n",
       "      <td>1.07160</td>\n",
       "      <td>0</td>\n",
       "    </tr>\n",
       "    <tr>\n",
       "      <th>4</th>\n",
       "      <td>2022.06.01</td>\n",
       "      <td>00:05</td>\n",
       "      <td>1.07162</td>\n",
       "      <td>1.07163</td>\n",
       "      <td>1.07157</td>\n",
       "      <td>1.07162</td>\n",
       "      <td>0</td>\n",
       "    </tr>\n",
       "  </tbody>\n",
       "</table>\n",
       "</div>"
      ],
      "text/plain": [
       "         date   time     open     high      low    close  volume\n",
       "0  2022.06.01  00:01  1.07181  1.07183  1.07177  1.07181       0\n",
       "1  2022.06.01  00:02  1.07182  1.07183  1.07172  1.07172       0\n",
       "2  2022.06.01  00:03  1.07172  1.07172  1.07157  1.07158       0\n",
       "3  2022.06.01  00:04  1.07157  1.07160  1.07151  1.07160       0\n",
       "4  2022.06.01  00:05  1.07162  1.07163  1.07157  1.07162       0"
      ]
     },
     "execution_count": 6,
     "metadata": {},
     "output_type": "execute_result"
    }
   ],
   "source": [
    "df.head()"
   ]
  },
  {
   "cell_type": "markdown",
   "metadata": {},
   "source": [
    "### Verificando valores omissos"
   ]
  },
  {
   "cell_type": "code",
   "execution_count": 7,
   "metadata": {},
   "outputs": [
    {
     "data": {
      "text/plain": [
       "date      0\n",
       "time      0\n",
       "open      0\n",
       "high      0\n",
       "low       0\n",
       "close     0\n",
       "volume    0\n",
       "dtype: int64"
      ]
     },
     "execution_count": 7,
     "metadata": {},
     "output_type": "execute_result"
    }
   ],
   "source": [
    "df.isnull().sum()"
   ]
  },
  {
   "cell_type": "code",
   "execution_count": null,
   "metadata": {},
   "outputs": [],
   "source": []
  }
 ],
 "metadata": {
  "kernelspec": {
   "display_name": "Python 3.9.13 64-bit (windows store)",
   "language": "python",
   "name": "python3"
  },
  "language_info": {
   "codemirror_mode": {
    "name": "ipython",
    "version": 3
   },
   "file_extension": ".py",
   "mimetype": "text/x-python",
   "name": "python",
   "nbconvert_exporter": "python",
   "pygments_lexer": "ipython3",
   "version": "3.9.13"
  },
  "orig_nbformat": 4,
  "vscode": {
   "interpreter": {
    "hash": "0d684c98b18f3d79a5c4c152b0735312291ba1e782838a5de47e42fe0105cd28"
   }
  }
 },
 "nbformat": 4,
 "nbformat_minor": 2
}
