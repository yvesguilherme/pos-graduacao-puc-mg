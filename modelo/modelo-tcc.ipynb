{
 "cells": [
  {
   "cell_type": "markdown",
   "metadata": {},
   "source": [
    "### Importando as bibliotecas"
   ]
  },
  {
   "cell_type": "code",
   "execution_count": null,
   "metadata": {},
   "outputs": [],
   "source": [
    "import pandas as pd\n",
    "import numpy as np\n",
    "import matplotlib.pyplot as plt\n",
    "plt.style.use('fivethirtyeight')\n",
    "\n",
    "# !pip install mplfinance\n"
   ]
  },
  {
   "cell_type": "markdown",
   "metadata": {},
   "source": [
    "### Importando o dataset"
   ]
  },
  {
   "cell_type": "code",
   "execution_count": null,
   "metadata": {},
   "outputs": [],
   "source": [
    "colunas = ['date', 'time', 'open', 'high', 'low', 'close', 'volume']\n",
    "df = pd.read_csv('../dataset/dataset-exemplo-202206.csv')\n",
    "df.columns = colunas\n"
   ]
  },
  {
   "cell_type": "code",
   "execution_count": null,
   "metadata": {},
   "outputs": [],
   "source": [
    "df\n"
   ]
  },
  {
   "cell_type": "code",
   "execution_count": null,
   "metadata": {},
   "outputs": [],
   "source": [
    "df.head()\n"
   ]
  },
  {
   "cell_type": "markdown",
   "metadata": {},
   "source": [
    "### Verificando valores omissos"
   ]
  },
  {
   "cell_type": "code",
   "execution_count": null,
   "metadata": {},
   "outputs": [],
   "source": [
    "df.isnull().sum()\n"
   ]
  },
  {
   "cell_type": "markdown",
   "metadata": {},
   "source": [
    "### Análise e exploração dos dados"
   ]
  },
  {
   "cell_type": "code",
   "execution_count": null,
   "metadata": {},
   "outputs": [],
   "source": [
    "import matplotlib.pyplot as plt\n",
    "import seaborn as sns\n",
    "\n",
    "plt.figure(figsize=(7, 5))\n",
    "sns.heatmap(df.corr(), annot=True)\n"
   ]
  },
  {
   "cell_type": "code",
   "execution_count": null,
   "metadata": {},
   "outputs": [],
   "source": [
    "df['open-high'] = df['open']-df['high']\n",
    "df['open-low'] = df['open'] - df['low']\n",
    "df['close-high'] = df['close']-df['high']\n",
    "df['close-low'] = df['close'] - df['low']\n",
    "df['high-low'] = df['high'] - df['low']\n",
    "df['open-close'] = df['open'] - df['close']\n",
    "df.head()\n"
   ]
  },
  {
   "cell_type": "code",
   "execution_count": null,
   "metadata": {},
   "outputs": [],
   "source": [
    "df2 = df.copy(True)\n",
    "df2 = df2.drop(['open', 'high', 'low', 'close', 'volume'], axis=1)\n",
    "plt.figure(figsize=(7, 5))\n",
    "sns.heatmap(df2.corr(), annot=True)\n"
   ]
  },
  {
   "cell_type": "code",
   "execution_count": null,
   "metadata": {},
   "outputs": [],
   "source": [
    "# Instalar a biblitoeca\n",
    "# pip install --upgrade mplfinance"
   ]
  },
  {
   "cell_type": "code",
   "execution_count": null,
   "metadata": {},
   "outputs": [],
   "source": [
    "import mplfinance as mpf\n",
    "\n",
    "# cópia do DataFrame\n",
    "df3 = df.copy(True)\n",
    "\n",
    "# criação da coluna contendo data e tempo\n",
    "df3['datetime'] = df3['date'] + ' ' + df3['time']\n",
    "\n",
    "# conversão dos dados dessa coluna para o objeto datetime\n",
    "df3['datetime'] = pd.to_datetime(df3['datetime'])\n",
    "\n",
    "# remoção das colunas que não serão utilizadas\n",
    "df3 = df3.drop(['date', 'time', 'volume', 'open-high', 'open-low',\n",
    "               'close-high',\t'close-low',\t'high-low', 'open-close'], axis=1)\n",
    "\n",
    "# definição da coluna datetime como índice do DataFrame\n",
    "df3.set_index('datetime', inplace=True, drop=True)\n",
    "\n",
    "# Visualização das primeiras 5 linhas\n",
    "df3.head()\n"
   ]
  },
  {
   "cell_type": "code",
   "execution_count": null,
   "metadata": {},
   "outputs": [],
   "source": [
    "# Gerando o gráfico de linha\n",
    "mpf.plot(df3, type='line')"
   ]
  },
  {
   "cell_type": "code",
   "execution_count": null,
   "metadata": {},
   "outputs": [],
   "source": [
    "# Gerando o gráfico de candlestick\n",
    "dias = df3.loc['2022-06-01 14:00':'2022-06-01 15:00', :]\n",
    "mpf.plot(dias, type='candle')"
   ]
  },
  {
   "cell_type": "markdown",
   "metadata": {},
   "source": [
    "### Preparação dos dados para os modelos de aprendizado de máquina"
   ]
  },
  {
   "cell_type": "code",
   "execution_count": 164,
   "metadata": {},
   "outputs": [
    {
     "data": {
      "text/html": [
       "<div>\n",
       "<style scoped>\n",
       "    .dataframe tbody tr th:only-of-type {\n",
       "        vertical-align: middle;\n",
       "    }\n",
       "\n",
       "    .dataframe tbody tr th {\n",
       "        vertical-align: top;\n",
       "    }\n",
       "\n",
       "    .dataframe thead th {\n",
       "        text-align: right;\n",
       "    }\n",
       "</style>\n",
       "<table border=\"1\" class=\"dataframe\">\n",
       "  <thead>\n",
       "    <tr style=\"text-align: right;\">\n",
       "      <th></th>\n",
       "      <th>date</th>\n",
       "      <th>time</th>\n",
       "      <th>open</th>\n",
       "      <th>high</th>\n",
       "      <th>low</th>\n",
       "      <th>close</th>\n",
       "      <th>volume</th>\n",
       "    </tr>\n",
       "  </thead>\n",
       "  <tbody>\n",
       "    <tr>\n",
       "      <th>0</th>\n",
       "      <td>2022.06.01</td>\n",
       "      <td>00:01</td>\n",
       "      <td>1.07181</td>\n",
       "      <td>1.07183</td>\n",
       "      <td>1.07177</td>\n",
       "      <td>1.07181</td>\n",
       "      <td>0</td>\n",
       "    </tr>\n",
       "    <tr>\n",
       "      <th>1</th>\n",
       "      <td>2022.06.01</td>\n",
       "      <td>00:02</td>\n",
       "      <td>1.07182</td>\n",
       "      <td>1.07183</td>\n",
       "      <td>1.07172</td>\n",
       "      <td>1.07172</td>\n",
       "      <td>0</td>\n",
       "    </tr>\n",
       "    <tr>\n",
       "      <th>2</th>\n",
       "      <td>2022.06.01</td>\n",
       "      <td>00:03</td>\n",
       "      <td>1.07172</td>\n",
       "      <td>1.07172</td>\n",
       "      <td>1.07157</td>\n",
       "      <td>1.07158</td>\n",
       "      <td>0</td>\n",
       "    </tr>\n",
       "    <tr>\n",
       "      <th>3</th>\n",
       "      <td>2022.06.01</td>\n",
       "      <td>00:04</td>\n",
       "      <td>1.07157</td>\n",
       "      <td>1.07160</td>\n",
       "      <td>1.07151</td>\n",
       "      <td>1.07160</td>\n",
       "      <td>0</td>\n",
       "    </tr>\n",
       "    <tr>\n",
       "      <th>4</th>\n",
       "      <td>2022.06.01</td>\n",
       "      <td>00:05</td>\n",
       "      <td>1.07162</td>\n",
       "      <td>1.07163</td>\n",
       "      <td>1.07157</td>\n",
       "      <td>1.07162</td>\n",
       "      <td>0</td>\n",
       "    </tr>\n",
       "  </tbody>\n",
       "</table>\n",
       "</div>"
      ],
      "text/plain": [
       "         date   time     open     high      low    close  volume\n",
       "0  2022.06.01  00:01  1.07181  1.07183  1.07177  1.07181       0\n",
       "1  2022.06.01  00:02  1.07182  1.07183  1.07172  1.07172       0\n",
       "2  2022.06.01  00:03  1.07172  1.07172  1.07157  1.07158       0\n",
       "3  2022.06.01  00:04  1.07157  1.07160  1.07151  1.07160       0\n",
       "4  2022.06.01  00:05  1.07162  1.07163  1.07157  1.07162       0"
      ]
     },
     "execution_count": 164,
     "metadata": {},
     "output_type": "execute_result"
    }
   ],
   "source": [
    "colunas = ['date', 'time', 'open', 'high', 'low', 'close', 'volume']\n",
    "df = pd.read_csv('../dataset/dataset-exemplo-202206.csv')\n",
    "df.columns = colunas\n",
    "\n",
    "df.head()"
   ]
  },
  {
   "cell_type": "code",
   "execution_count": 165,
   "metadata": {},
   "outputs": [],
   "source": [
    "df = df.head(3000)"
   ]
  },
  {
   "cell_type": "markdown",
   "metadata": {},
   "source": [
    "#### Redimensionar os dados em X e y"
   ]
  },
  {
   "cell_type": "code",
   "execution_count": 166,
   "metadata": {},
   "outputs": [],
   "source": [
    "def dimensionamento_de_dados(df, JANELA=15, previsao=1):\n",
    "  X = []\n",
    "  Y = []\n",
    "  total = 0\n",
    "  for i in range(0, len(df), 1):\n",
    "    try:\n",
    "      open = df.open.values.tolist()[i:i+JANELA]\n",
    "      high = df.high.values.tolist()[i:i+JANELA]\n",
    "      low = df.low.values.tolist()[i:i+JANELA]\n",
    "      close = df.close.values.tolist()[i:i+JANELA]\n",
    "      adj = df.adj.values.tolist()[i:i+JANELA]\n",
    "      macd = df.macd.values.tolist()[i:i+JANELA]\n",
    "      x_i = df.close.values.tolist()[i:i+JANELA]\n",
    "      y_i = df.close.values.tolist()[i+JANELA+previsao]\n",
    "\n",
    "      anterior_close = x_i[-1]\n",
    "      proximo_close = y_i\n",
    "\n",
    "      if len(close) == JANELA:\n",
    "        if anterior_close < proximo_close:\n",
    "          y_i = [1, 0]\n",
    "        else:\n",
    "          y_i = [0, 1]\n",
    "          total += 1\n",
    "        \n",
    "        # Cálculo do zscore no intervalo de janela de tempo.\n",
    "        open = (np.array(open) - np.mean(open)) / np.std(open)\n",
    "        high = (np.array(high) - np.mean(high)) / np.std(high)\n",
    "        low = (np.array(low) - np.mean(low)) / np.std(low)\n",
    "        close = (np.array(close) - np.mean(close)) / np.std(close)\n",
    "        adj = (np.array(adj) - np.mean(adj)) / np.std(adj)\n",
    "        macd = (np.array(macd) - np.mean(macd)) / np.std(macd)\n",
    "        X.append(np.column_stack((open, high, low, adj, close, macd)))\n",
    "        Y.append(y_i)\n",
    "      else:\n",
    "        continue\n",
    "    except Exception as e:\n",
    "      print(e)\n",
    "      break\n",
    "  return X, Y"
   ]
  },
  {
   "cell_type": "markdown",
   "metadata": {},
   "source": [
    "#### Formatar dados"
   ]
  },
  {
   "cell_type": "code",
   "execution_count": 167,
   "metadata": {},
   "outputs": [],
   "source": [
    "def formatar_dados(df):\n",
    "  df['adj'] = df.close.pct_change(1).shift(-1)\n",
    "  df = df.dropna()\n",
    "  df = df.reset_index(drop=True)\n",
    "  exp1 = df.close.ewm(span=12, adjust=False).mean()\n",
    "  exp2 = df.close.ewm(span=26, adjust=False).mean()\n",
    "  macd = exp1-exp2\n",
    "  exp3 = macd.ewm(span=9, adjust=False).mean()\n",
    "  df['macd'] = exp3\n",
    "\n",
    "  return dimensionamento_de_dados(df)"
   ]
  },
  {
   "cell_type": "markdown",
   "metadata": {},
   "source": [
    "#### Montar dataset tradicional"
   ]
  },
  {
   "cell_type": "code",
   "execution_count": 168,
   "metadata": {},
   "outputs": [],
   "source": [
    "# Transformar a matriz em um array\n",
    "def dataset_tradicional(dados, target):\n",
    "  X = []\n",
    "  y = []\n",
    "  for valor, t in zip(dados, target):\n",
    "    new_shape = (valor.shape[0] * valor.shape[1])\n",
    "    X.append(valor[:].reshape(new_shape))\n",
    "    y.append(t[0])\n",
    "\n",
    "  return X, y"
   ]
  },
  {
   "cell_type": "code",
   "execution_count": null,
   "metadata": {},
   "outputs": [],
   "source": [
    "X, y = formatar_dados(df)"
   ]
  },
  {
   "cell_type": "code",
   "execution_count": 170,
   "metadata": {},
   "outputs": [
    {
     "data": {
      "text/plain": [
       "(15, 6)"
      ]
     },
     "execution_count": 170,
     "metadata": {},
     "output_type": "execute_result"
    }
   ],
   "source": [
    "X[0].shape"
   ]
  },
  {
   "cell_type": "code",
   "execution_count": 171,
   "metadata": {},
   "outputs": [],
   "source": [
    "X_dados_tradicional, y_dados_tradicional = dataset_tradicional(X, y)"
   ]
  },
  {
   "cell_type": "markdown",
   "metadata": {},
   "source": [
    "#### Divisão do dataset em base de treino e teste"
   ]
  },
  {
   "cell_type": "code",
   "execution_count": 172,
   "metadata": {},
   "outputs": [],
   "source": [
    "from sklearn.model_selection import train_test_split\n",
    "\n",
    "X_train, X_test, y_train, y_test = train_test_split(\n",
    "                                      X_dados_tradicional,\n",
    "                                      y_dados_tradicional,\n",
    "                                      test_size=0.30,\n",
    "                                      shuffle=True,\n",
    "                                      random_state=42\n",
    "                                    )\n"
   ]
  },
  {
   "cell_type": "code",
   "execution_count": 173,
   "metadata": {},
   "outputs": [],
   "source": [
    "X_train, X_test, y_train, y_test = np.array(X_train), np.array(X_test), np.array(y_train), np.array(y_test)"
   ]
  },
  {
   "cell_type": "markdown",
   "metadata": {},
   "source": [
    "### SVC"
   ]
  },
  {
   "cell_type": "code",
   "execution_count": 174,
   "metadata": {},
   "outputs": [],
   "source": [
    "from sklearn import svm\n",
    "from sklearn.svm import SVC"
   ]
  },
  {
   "cell_type": "code",
   "execution_count": 175,
   "metadata": {},
   "outputs": [
    {
     "data": {
      "text/plain": [
       "SVC()"
      ]
     },
     "execution_count": 175,
     "metadata": {},
     "output_type": "execute_result"
    }
   ],
   "source": [
    "svclassifier = SVC(kernel='rbf')\n",
    "svclassifier.fit(X_train, y_train)"
   ]
  },
  {
   "cell_type": "code",
   "execution_count": 176,
   "metadata": {},
   "outputs": [],
   "source": [
    "y_pred = svclassifier.predict(X_test)"
   ]
  },
  {
   "cell_type": "markdown",
   "metadata": {},
   "source": [
    "#### Matriz de confusão"
   ]
  },
  {
   "cell_type": "code",
   "execution_count": 177,
   "metadata": {},
   "outputs": [],
   "source": [
    "from sklearn.metrics import ConfusionMatrixDisplay"
   ]
  },
  {
   "cell_type": "code",
   "execution_count": 178,
   "metadata": {},
   "outputs": [
    {
     "data": {
      "text/plain": [
       "<sklearn.metrics._plot.confusion_matrix.ConfusionMatrixDisplay at 0x29980fd11c0>"
      ]
     },
     "execution_count": 178,
     "metadata": {},
     "output_type": "execute_result"
    },
    {
     "data": {
      "image/png": "[encoded data removed]",
      "text/plain": [
       "<Figure size 640x480 with 2 Axes>"
      ]
     },
     "metadata": {},
     "output_type": "display_data"
    }
   ],
   "source": [
    "ConfusionMatrixDisplay.from_estimator(svclassifier, X_test, y_test)"
   ]
  },
  {
   "cell_type": "code",
   "execution_count": 179,
   "metadata": {},
   "outputs": [],
   "source": [
    "from sklearn.metrics import classification_report, confusion_matrix, accuracy_score\n"
   ]
  },
  {
   "cell_type": "code",
   "execution_count": 180,
   "metadata": {},
   "outputs": [
    {
     "name": "stdout",
     "output_type": "stream",
     "text": [
      "[[364 102]\n",
      " [145 284]]\n",
      "              precision    recall  f1-score   support\n",
      "\n",
      "           0       0.72      0.78      0.75       466\n",
      "           1       0.74      0.66      0.70       429\n",
      "\n",
      "    accuracy                           0.72       895\n",
      "   macro avg       0.73      0.72      0.72       895\n",
      "weighted avg       0.73      0.72      0.72       895\n",
      "\n",
      "0.7240223463687151\n"
     ]
    }
   ],
   "source": [
    "print(confusion_matrix(y_test, y_pred))\n",
    "print(classification_report(y_test, y_pred))\n",
    "print(accuracy_score(y_test, y_pred.round()))\n"
   ]
  }
 ],
 "metadata": {
  "kernelspec": {
   "display_name": "Python 3.9.13 64-bit (windows store)",
   "language": "python",
   "name": "python3"
  },
  "language_info": {
   "codemirror_mode": {
    "name": "ipython",
    "version": 3
   },
   "file_extension": ".py",
   "mimetype": "text/x-python",
   "name": "python",
   "nbconvert_exporter": "python",
   "pygments_lexer": "ipython3",
   "version": "3.9.13"
  },
  "orig_nbformat": 4,
  "vscode": {
   "interpreter": {
    "hash": "0d684c98b18f3d79a5c4c152b0735312291ba1e782838a5de47e42fe0105cd28"
   }
  }
 },
 "nbformat": 4,
 "nbformat_minor": 2
}
